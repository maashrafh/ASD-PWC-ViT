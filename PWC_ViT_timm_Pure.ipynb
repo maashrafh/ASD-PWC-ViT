{
  "cells": [
    {
      "cell_type": "code",
      "execution_count": null,
      "metadata": {
        "id": "TJWRIPV7xiO4"
      },
      "outputs": [],
      "source": [
        "!pip install torch torchvision matplotlib tqdm numpy pandas google-colab pytorch_lightning 1> /dev/null"
      ]
    },
    {
      "cell_type": "code",
      "execution_count": null,
      "metadata": {
        "id": "Mj6lvDjAvBzX"
      },
      "outputs": [],
      "source": [
        "#!pip install --upgrade pytorch-pretrained-vit 1> /dev/null\n",
        "#!pip install vit-pytorch 1> /dev/null\n",
        "!pip install timm 1> /dev/null"
      ]
    },
    {
      "cell_type": "code",
      "execution_count": null,
      "metadata": {
        "colab": {
          "base_uri": "https://localhost:8080/"
        },
        "id": "Em1sAncdyLx8",
        "outputId": "fd188278-c5dd-4b2c-dab2-0e180a92bb16"
      },
      "outputs": [
        {
          "output_type": "stream",
          "name": "stdout",
          "text": [
            "Mon Jul  3 14:20:38 2023       \n",
            "+-----------------------------------------------------------------------------+\n",
            "| NVIDIA-SMI 525.85.12    Driver Version: 525.85.12    CUDA Version: 12.0     |\n",
            "|-------------------------------+----------------------+----------------------+\n",
            "| GPU  Name        Persistence-M| Bus-Id        Disp.A | Volatile Uncorr. ECC |\n",
            "| Fan  Temp  Perf  Pwr:Usage/Cap|         Memory-Usage | GPU-Util  Compute M. |\n",
            "|                               |                      |               MIG M. |\n",
            "|===============================+======================+======================|\n",
            "|   0  Tesla T4            Off  | 00000000:00:04.0 Off |                    0 |\n",
            "| N/A   60C    P8    10W /  70W |      0MiB / 15360MiB |      0%      Default |\n",
            "|                               |                      |                  N/A |\n",
            "+-------------------------------+----------------------+----------------------+\n",
            "                                                                               \n",
            "+-----------------------------------------------------------------------------+\n",
            "| Processes:                                                                  |\n",
            "|  GPU   GI   CI        PID   Type   Process name                  GPU Memory |\n",
            "|        ID   ID                                                   Usage      |\n",
            "|=============================================================================|\n",
            "|  No running processes found                                                 |\n",
            "+-----------------------------------------------------------------------------+\n"
          ]
        }
      ],
      "source": [
        "!nvidia-smi"
      ]
    },
    {
      "cell_type": "code",
      "execution_count": null,
      "metadata": {
        "colab": {
          "base_uri": "https://localhost:8080/"
        },
        "id": "pxa0PrZJEV3Y",
        "outputId": "f8dfecf6-3f1c-4260-d2fb-964b4aa8d915"
      },
      "outputs": [
        {
          "output_type": "stream",
          "name": "stdout",
          "text": [
            "/content/drive/MyDrive/UTP/FYP\n",
            "/content/drive/MyDrive/UTP/FYP\n"
          ]
        }
      ],
      "source": [
        "%cd /content/drive/MyDrive/UTP/FYP\n",
        "!pwd"
      ]
    },
    {
      "cell_type": "code",
      "execution_count": null,
      "metadata": {
        "id": "xsIi6IDXK4Sa"
      },
      "outputs": [],
      "source": [
        "# import csv\n",
        "# csv_fields = ['fold','epoch','train_losses','train_acc','val_losses','val_acc','lr']\n",
        "# with open('./data/pwc_ViT_timm_pure_k_folds.csv', 'a', newline='') as fd:\n",
        "#   writer = csv.writer(fd)\n",
        "#   writer.writerow(csv_fields)"
      ]
    },
    {
      "cell_type": "code",
      "execution_count": null,
      "metadata": {
        "id": "Y5h52jqBwraK"
      },
      "outputs": [],
      "source": [
        "import os\n",
        "import math\n",
        "import torch\n",
        "import tarfile\n",
        "import matplotlib\n",
        "import torchvision\n",
        "import numpy as np\n",
        "import torch.nn as nn\n",
        "from tqdm import tqdm\n",
        "import timm\n",
        "import matplotlib.pyplot as plt\n",
        "import torch.nn.functional as F\n",
        "import torchvision.transforms as tt\n",
        "from torchvision.utils import make_grid\n",
        "from torchvision.datasets import ImageFolder\n",
        "from torch.utils.data import random_split, DataLoader, ConcatDataset\n",
        "from sklearn.metrics import confusion_matrix\n",
        "from sklearn.model_selection import KFold\n",
        "import csv\n",
        "\n",
        "%matplotlib inline"
      ]
    },
    {
      "cell_type": "code",
      "execution_count": null,
      "metadata": {
        "id": "A8WYxJkVnjH3"
      },
      "outputs": [],
      "source": [
        "# Model Hyperparameters\n",
        "#\"Input has shape `(batch_size, seq_len, emb_dim)`\"\n",
        "batch_size = 8 # 8 is maximum\n",
        "learning_rate = 0.0005"
      ]
    },
    {
      "cell_type": "code",
      "execution_count": null,
      "metadata": {
        "colab": {
          "base_uri": "https://localhost:8080/"
        },
        "id": "EuD5TvxRpNDd",
        "outputId": "1283d37e-b0ad-41a1-defd-5420e27cabb6"
      },
      "outputs": [
        {
          "output_type": "stream",
          "name": "stdout",
          "text": [
            "Using device: cuda\n"
          ]
        }
      ],
      "source": [
        "# Device selection\n",
        "device = torch.device(\"cuda\" if torch.cuda.is_available() else \"cpu\")\n",
        "print(\"Using device:\", device)\n",
        "\n",
        "def to_device(data, device):\n",
        "    \"\"\"Move tensor(s) to chosen device\"\"\"\n",
        "    if isinstance(data, (list,tuple)):\n",
        "        return [to_device(x, device) for x in data]\n",
        "    return data.to(device, non_blocking=True)\n",
        "\n",
        "class DeviceDataLoader():\n",
        "    \"\"\"Wrap a dataloader to move data to a device\"\"\"\n",
        "    def __init__(self, dl, device):\n",
        "        self.dl = dl\n",
        "        self.device = device\n",
        "\n",
        "    def __iter__(self):\n",
        "        \"\"\"Yield a batch of data after moving it to device\"\"\"\n",
        "        for b in self.dl:\n",
        "            yield to_device(b, self.device)\n",
        "\n",
        "    def __len__(self):\n",
        "        \"\"\"Number of batches\"\"\"\n",
        "        return len(self.dl)"
      ]
    },
    {
      "cell_type": "code",
      "execution_count": null,
      "metadata": {
        "colab": {
          "base_uri": "https://localhost:8080/"
        },
        "id": "acciUDMN1Q25",
        "outputId": "39b7fd15-7b7b-45da-94e5-9b783593db29"
      },
      "outputs": [
        {
          "output_type": "stream",
          "name": "stdout",
          "text": [
            "['test', 'train']\n",
            "['NC', 'ASD']\n"
          ]
        }
      ],
      "source": [
        "# Look into the data directory\n",
        "data_dir = './data/pwcdata'\n",
        "print(os.listdir(data_dir))\n",
        "classes = os.listdir(data_dir + \"/train\")\n",
        "print(classes)"
      ]
    },
    {
      "cell_type": "code",
      "execution_count": null,
      "metadata": {
        "id": "F0rZs6tLej0E"
      },
      "outputs": [],
      "source": [
        "# Data transforms (normalization & data augmentation)\n",
        "stats = (0.5, 0.5)\n",
        "train_tfms = tt.Compose([#tt.RandomCrop(32, padding=4, padding_mode='reflect'),\n",
        "                         #tt.Resize((384, 384)),\n",
        "                         tt.RandomHorizontalFlip(),\n",
        "                         # tt.RandomRotate\n",
        "                         # tt.RandomResizedCrop(256, scale=(0.5,0.9), ratio=(1, 1)),\n",
        "                         # tt.ColorJitter(brightness=0.1, contrast=0.1, saturation=0.1, hue=0.1),\n",
        "                         tt.ToTensor(),\n",
        "                         tt.Normalize(*stats,inplace=True)])"
      ]
    },
    {
      "cell_type": "code",
      "execution_count": null,
      "metadata": {
        "id": "UnE_tNkN1UMk"
      },
      "outputs": [],
      "source": [
        "# PyTorch datasets\n",
        "train_ds = ImageFolder(data_dir+'/train', train_tfms)\n",
        "train_ds_size = int(len(train_ds) * 0.8)\n",
        "valid_ds_size = len(train_ds) - train_ds_size\n",
        "train_ds, valid_ds = random_split(train_ds, [train_ds_size, valid_ds_size])\n",
        "dataset = ConcatDataset([train_ds, valid_ds])\n",
        "\n",
        "# PyTorch data loaders (moved to k-fold cv)\n",
        "# train_dl = DataLoader(train_ds, batch_size, shuffle=True, num_workers=1, pin_memory=False)\n",
        "# valid_dl = DataLoader(valid_ds, batch_size, shuffle=True, num_workers=1, pin_memory=False)\n",
        "\n",
        "# Move data loaders to device (moved to k-fold cv)\n",
        "# train_dl = DeviceDataLoader(train_dl, device)\n",
        "# valid_dl = DeviceDataLoader(train_dl, device)"
      ]
    },
    {
      "cell_type": "markdown",
      "metadata": {
        "id": "W8qu7ZGa14AL"
      },
      "source": [
        "## Image Classification Methods"
      ]
    },
    {
      "cell_type": "code",
      "execution_count": null,
      "metadata": {
        "id": "P-e5Lrsy164A"
      },
      "outputs": [],
      "source": [
        "def accuracy(outputs, labels):\n",
        "    _, preds = torch.max(outputs, dim=1)\n",
        "    return torch.tensor(torch.sum(preds == labels).item() / len(preds))\n",
        "\n",
        "class ImageClassificationBase(nn.Module):\n",
        "    def training_step(self, batch):\n",
        "        images, labels = batch\n",
        "        out = self(images)                  # Generate predictions\n",
        "        loss = F.cross_entropy(out, labels) # Calculate loss\n",
        "        return loss\n",
        "\n",
        "    def validation_step(self, batch):\n",
        "        images, labels = batch\n",
        "        out = self(images)                    # Generate predictions\n",
        "        loss = F.cross_entropy(out, labels)   # Calculate loss\n",
        "        acc = accuracy(out, labels)           # Calculate accuracy\n",
        "        return {'val_loss': loss.detach(), 'val_acc': acc}\n",
        "\n",
        "    def validation_epoch_end(self, outputs):\n",
        "        batch_losses = [x['val_loss'] for x in outputs]\n",
        "        epoch_loss = torch.stack(batch_losses).mean()   # Combine losses\n",
        "        batch_accs = [x['val_acc'] for x in outputs]\n",
        "        epoch_acc = torch.stack(batch_accs).mean()      # Combine accuracies\n",
        "        return {'val_loss': epoch_loss.item(), 'val_acc': epoch_acc.item()}\n",
        "\n",
        "    def epoch_end(self, epoch, result):\n",
        "        print(\"Epoch [{}], last_lr: {:.5f}, train_loss: {:.4f}, val_loss: {:.4f}, val_acc: {:.4f}\".format(\n",
        "            epoch, result['lrs'][-1], result['train_loss'], result['val_loss'], result['val_acc']))"
      ]
    },
    {
      "cell_type": "markdown",
      "metadata": {
        "id": "KeqBDRFRvV0z"
      },
      "source": [
        "# ViT Model"
      ]
    },
    {
      "cell_type": "code",
      "execution_count": null,
      "metadata": {
        "colab": {
          "base_uri": "https://localhost:8080/"
        },
        "id": "Cv1TSbhevfAG",
        "outputId": "dde6d37b-f8b1-40df-d7ac-1f9e7d55d4cf"
      },
      "outputs": [
        {
          "output_type": "execute_result",
          "data": {
            "text/plain": [
              "VisionTransformer(\n",
              "  (patch_embed): PatchEmbed(\n",
              "    (proj): Conv2d(3, 768, kernel_size=(16, 16), stride=(16, 16))\n",
              "    (norm): Identity()\n",
              "  )\n",
              "  (pos_drop): Dropout(p=0.0, inplace=False)\n",
              "  (patch_drop): Identity()\n",
              "  (norm_pre): Identity()\n",
              "  (blocks): Sequential(\n",
              "    (0): Block(\n",
              "      (norm1): LayerNorm((768,), eps=1e-06, elementwise_affine=True)\n",
              "      (attn): Attention(\n",
              "        (qkv): Linear(in_features=768, out_features=2304, bias=True)\n",
              "        (q_norm): Identity()\n",
              "        (k_norm): Identity()\n",
              "        (attn_drop): Dropout(p=0.0, inplace=False)\n",
              "        (proj): Linear(in_features=768, out_features=768, bias=True)\n",
              "        (proj_drop): Dropout(p=0.0, inplace=False)\n",
              "      )\n",
              "      (ls1): Identity()\n",
              "      (drop_path1): Identity()\n",
              "      (norm2): LayerNorm((768,), eps=1e-06, elementwise_affine=True)\n",
              "      (mlp): Mlp(\n",
              "        (fc1): Linear(in_features=768, out_features=3072, bias=True)\n",
              "        (act): GELU(approximate='none')\n",
              "        (drop1): Dropout(p=0.0, inplace=False)\n",
              "        (norm): Identity()\n",
              "        (fc2): Linear(in_features=3072, out_features=768, bias=True)\n",
              "        (drop2): Dropout(p=0.0, inplace=False)\n",
              "      )\n",
              "      (ls2): Identity()\n",
              "      (drop_path2): Identity()\n",
              "    )\n",
              "    (1): Block(\n",
              "      (norm1): LayerNorm((768,), eps=1e-06, elementwise_affine=True)\n",
              "      (attn): Attention(\n",
              "        (qkv): Linear(in_features=768, out_features=2304, bias=True)\n",
              "        (q_norm): Identity()\n",
              "        (k_norm): Identity()\n",
              "        (attn_drop): Dropout(p=0.0, inplace=False)\n",
              "        (proj): Linear(in_features=768, out_features=768, bias=True)\n",
              "        (proj_drop): Dropout(p=0.0, inplace=False)\n",
              "      )\n",
              "      (ls1): Identity()\n",
              "      (drop_path1): Identity()\n",
              "      (norm2): LayerNorm((768,), eps=1e-06, elementwise_affine=True)\n",
              "      (mlp): Mlp(\n",
              "        (fc1): Linear(in_features=768, out_features=3072, bias=True)\n",
              "        (act): GELU(approximate='none')\n",
              "        (drop1): Dropout(p=0.0, inplace=False)\n",
              "        (norm): Identity()\n",
              "        (fc2): Linear(in_features=3072, out_features=768, bias=True)\n",
              "        (drop2): Dropout(p=0.0, inplace=False)\n",
              "      )\n",
              "      (ls2): Identity()\n",
              "      (drop_path2): Identity()\n",
              "    )\n",
              "    (2): Block(\n",
              "      (norm1): LayerNorm((768,), eps=1e-06, elementwise_affine=True)\n",
              "      (attn): Attention(\n",
              "        (qkv): Linear(in_features=768, out_features=2304, bias=True)\n",
              "        (q_norm): Identity()\n",
              "        (k_norm): Identity()\n",
              "        (attn_drop): Dropout(p=0.0, inplace=False)\n",
              "        (proj): Linear(in_features=768, out_features=768, bias=True)\n",
              "        (proj_drop): Dropout(p=0.0, inplace=False)\n",
              "      )\n",
              "      (ls1): Identity()\n",
              "      (drop_path1): Identity()\n",
              "      (norm2): LayerNorm((768,), eps=1e-06, elementwise_affine=True)\n",
              "      (mlp): Mlp(\n",
              "        (fc1): Linear(in_features=768, out_features=3072, bias=True)\n",
              "        (act): GELU(approximate='none')\n",
              "        (drop1): Dropout(p=0.0, inplace=False)\n",
              "        (norm): Identity()\n",
              "        (fc2): Linear(in_features=3072, out_features=768, bias=True)\n",
              "        (drop2): Dropout(p=0.0, inplace=False)\n",
              "      )\n",
              "      (ls2): Identity()\n",
              "      (drop_path2): Identity()\n",
              "    )\n",
              "    (3): Block(\n",
              "      (norm1): LayerNorm((768,), eps=1e-06, elementwise_affine=True)\n",
              "      (attn): Attention(\n",
              "        (qkv): Linear(in_features=768, out_features=2304, bias=True)\n",
              "        (q_norm): Identity()\n",
              "        (k_norm): Identity()\n",
              "        (attn_drop): Dropout(p=0.0, inplace=False)\n",
              "        (proj): Linear(in_features=768, out_features=768, bias=True)\n",
              "        (proj_drop): Dropout(p=0.0, inplace=False)\n",
              "      )\n",
              "      (ls1): Identity()\n",
              "      (drop_path1): Identity()\n",
              "      (norm2): LayerNorm((768,), eps=1e-06, elementwise_affine=True)\n",
              "      (mlp): Mlp(\n",
              "        (fc1): Linear(in_features=768, out_features=3072, bias=True)\n",
              "        (act): GELU(approximate='none')\n",
              "        (drop1): Dropout(p=0.0, inplace=False)\n",
              "        (norm): Identity()\n",
              "        (fc2): Linear(in_features=3072, out_features=768, bias=True)\n",
              "        (drop2): Dropout(p=0.0, inplace=False)\n",
              "      )\n",
              "      (ls2): Identity()\n",
              "      (drop_path2): Identity()\n",
              "    )\n",
              "    (4): Block(\n",
              "      (norm1): LayerNorm((768,), eps=1e-06, elementwise_affine=True)\n",
              "      (attn): Attention(\n",
              "        (qkv): Linear(in_features=768, out_features=2304, bias=True)\n",
              "        (q_norm): Identity()\n",
              "        (k_norm): Identity()\n",
              "        (attn_drop): Dropout(p=0.0, inplace=False)\n",
              "        (proj): Linear(in_features=768, out_features=768, bias=True)\n",
              "        (proj_drop): Dropout(p=0.0, inplace=False)\n",
              "      )\n",
              "      (ls1): Identity()\n",
              "      (drop_path1): Identity()\n",
              "      (norm2): LayerNorm((768,), eps=1e-06, elementwise_affine=True)\n",
              "      (mlp): Mlp(\n",
              "        (fc1): Linear(in_features=768, out_features=3072, bias=True)\n",
              "        (act): GELU(approximate='none')\n",
              "        (drop1): Dropout(p=0.0, inplace=False)\n",
              "        (norm): Identity()\n",
              "        (fc2): Linear(in_features=3072, out_features=768, bias=True)\n",
              "        (drop2): Dropout(p=0.0, inplace=False)\n",
              "      )\n",
              "      (ls2): Identity()\n",
              "      (drop_path2): Identity()\n",
              "    )\n",
              "    (5): Block(\n",
              "      (norm1): LayerNorm((768,), eps=1e-06, elementwise_affine=True)\n",
              "      (attn): Attention(\n",
              "        (qkv): Linear(in_features=768, out_features=2304, bias=True)\n",
              "        (q_norm): Identity()\n",
              "        (k_norm): Identity()\n",
              "        (attn_drop): Dropout(p=0.0, inplace=False)\n",
              "        (proj): Linear(in_features=768, out_features=768, bias=True)\n",
              "        (proj_drop): Dropout(p=0.0, inplace=False)\n",
              "      )\n",
              "      (ls1): Identity()\n",
              "      (drop_path1): Identity()\n",
              "      (norm2): LayerNorm((768,), eps=1e-06, elementwise_affine=True)\n",
              "      (mlp): Mlp(\n",
              "        (fc1): Linear(in_features=768, out_features=3072, bias=True)\n",
              "        (act): GELU(approximate='none')\n",
              "        (drop1): Dropout(p=0.0, inplace=False)\n",
              "        (norm): Identity()\n",
              "        (fc2): Linear(in_features=3072, out_features=768, bias=True)\n",
              "        (drop2): Dropout(p=0.0, inplace=False)\n",
              "      )\n",
              "      (ls2): Identity()\n",
              "      (drop_path2): Identity()\n",
              "    )\n",
              "    (6): Block(\n",
              "      (norm1): LayerNorm((768,), eps=1e-06, elementwise_affine=True)\n",
              "      (attn): Attention(\n",
              "        (qkv): Linear(in_features=768, out_features=2304, bias=True)\n",
              "        (q_norm): Identity()\n",
              "        (k_norm): Identity()\n",
              "        (attn_drop): Dropout(p=0.0, inplace=False)\n",
              "        (proj): Linear(in_features=768, out_features=768, bias=True)\n",
              "        (proj_drop): Dropout(p=0.0, inplace=False)\n",
              "      )\n",
              "      (ls1): Identity()\n",
              "      (drop_path1): Identity()\n",
              "      (norm2): LayerNorm((768,), eps=1e-06, elementwise_affine=True)\n",
              "      (mlp): Mlp(\n",
              "        (fc1): Linear(in_features=768, out_features=3072, bias=True)\n",
              "        (act): GELU(approximate='none')\n",
              "        (drop1): Dropout(p=0.0, inplace=False)\n",
              "        (norm): Identity()\n",
              "        (fc2): Linear(in_features=3072, out_features=768, bias=True)\n",
              "        (drop2): Dropout(p=0.0, inplace=False)\n",
              "      )\n",
              "      (ls2): Identity()\n",
              "      (drop_path2): Identity()\n",
              "    )\n",
              "    (7): Block(\n",
              "      (norm1): LayerNorm((768,), eps=1e-06, elementwise_affine=True)\n",
              "      (attn): Attention(\n",
              "        (qkv): Linear(in_features=768, out_features=2304, bias=True)\n",
              "        (q_norm): Identity()\n",
              "        (k_norm): Identity()\n",
              "        (attn_drop): Dropout(p=0.0, inplace=False)\n",
              "        (proj): Linear(in_features=768, out_features=768, bias=True)\n",
              "        (proj_drop): Dropout(p=0.0, inplace=False)\n",
              "      )\n",
              "      (ls1): Identity()\n",
              "      (drop_path1): Identity()\n",
              "      (norm2): LayerNorm((768,), eps=1e-06, elementwise_affine=True)\n",
              "      (mlp): Mlp(\n",
              "        (fc1): Linear(in_features=768, out_features=3072, bias=True)\n",
              "        (act): GELU(approximate='none')\n",
              "        (drop1): Dropout(p=0.0, inplace=False)\n",
              "        (norm): Identity()\n",
              "        (fc2): Linear(in_features=3072, out_features=768, bias=True)\n",
              "        (drop2): Dropout(p=0.0, inplace=False)\n",
              "      )\n",
              "      (ls2): Identity()\n",
              "      (drop_path2): Identity()\n",
              "    )\n",
              "    (8): Block(\n",
              "      (norm1): LayerNorm((768,), eps=1e-06, elementwise_affine=True)\n",
              "      (attn): Attention(\n",
              "        (qkv): Linear(in_features=768, out_features=2304, bias=True)\n",
              "        (q_norm): Identity()\n",
              "        (k_norm): Identity()\n",
              "        (attn_drop): Dropout(p=0.0, inplace=False)\n",
              "        (proj): Linear(in_features=768, out_features=768, bias=True)\n",
              "        (proj_drop): Dropout(p=0.0, inplace=False)\n",
              "      )\n",
              "      (ls1): Identity()\n",
              "      (drop_path1): Identity()\n",
              "      (norm2): LayerNorm((768,), eps=1e-06, elementwise_affine=True)\n",
              "      (mlp): Mlp(\n",
              "        (fc1): Linear(in_features=768, out_features=3072, bias=True)\n",
              "        (act): GELU(approximate='none')\n",
              "        (drop1): Dropout(p=0.0, inplace=False)\n",
              "        (norm): Identity()\n",
              "        (fc2): Linear(in_features=3072, out_features=768, bias=True)\n",
              "        (drop2): Dropout(p=0.0, inplace=False)\n",
              "      )\n",
              "      (ls2): Identity()\n",
              "      (drop_path2): Identity()\n",
              "    )\n",
              "    (9): Block(\n",
              "      (norm1): LayerNorm((768,), eps=1e-06, elementwise_affine=True)\n",
              "      (attn): Attention(\n",
              "        (qkv): Linear(in_features=768, out_features=2304, bias=True)\n",
              "        (q_norm): Identity()\n",
              "        (k_norm): Identity()\n",
              "        (attn_drop): Dropout(p=0.0, inplace=False)\n",
              "        (proj): Linear(in_features=768, out_features=768, bias=True)\n",
              "        (proj_drop): Dropout(p=0.0, inplace=False)\n",
              "      )\n",
              "      (ls1): Identity()\n",
              "      (drop_path1): Identity()\n",
              "      (norm2): LayerNorm((768,), eps=1e-06, elementwise_affine=True)\n",
              "      (mlp): Mlp(\n",
              "        (fc1): Linear(in_features=768, out_features=3072, bias=True)\n",
              "        (act): GELU(approximate='none')\n",
              "        (drop1): Dropout(p=0.0, inplace=False)\n",
              "        (norm): Identity()\n",
              "        (fc2): Linear(in_features=3072, out_features=768, bias=True)\n",
              "        (drop2): Dropout(p=0.0, inplace=False)\n",
              "      )\n",
              "      (ls2): Identity()\n",
              "      (drop_path2): Identity()\n",
              "    )\n",
              "    (10): Block(\n",
              "      (norm1): LayerNorm((768,), eps=1e-06, elementwise_affine=True)\n",
              "      (attn): Attention(\n",
              "        (qkv): Linear(in_features=768, out_features=2304, bias=True)\n",
              "        (q_norm): Identity()\n",
              "        (k_norm): Identity()\n",
              "        (attn_drop): Dropout(p=0.0, inplace=False)\n",
              "        (proj): Linear(in_features=768, out_features=768, bias=True)\n",
              "        (proj_drop): Dropout(p=0.0, inplace=False)\n",
              "      )\n",
              "      (ls1): Identity()\n",
              "      (drop_path1): Identity()\n",
              "      (norm2): LayerNorm((768,), eps=1e-06, elementwise_affine=True)\n",
              "      (mlp): Mlp(\n",
              "        (fc1): Linear(in_features=768, out_features=3072, bias=True)\n",
              "        (act): GELU(approximate='none')\n",
              "        (drop1): Dropout(p=0.0, inplace=False)\n",
              "        (norm): Identity()\n",
              "        (fc2): Linear(in_features=3072, out_features=768, bias=True)\n",
              "        (drop2): Dropout(p=0.0, inplace=False)\n",
              "      )\n",
              "      (ls2): Identity()\n",
              "      (drop_path2): Identity()\n",
              "    )\n",
              "    (11): Block(\n",
              "      (norm1): LayerNorm((768,), eps=1e-06, elementwise_affine=True)\n",
              "      (attn): Attention(\n",
              "        (qkv): Linear(in_features=768, out_features=2304, bias=True)\n",
              "        (q_norm): Identity()\n",
              "        (k_norm): Identity()\n",
              "        (attn_drop): Dropout(p=0.0, inplace=False)\n",
              "        (proj): Linear(in_features=768, out_features=768, bias=True)\n",
              "        (proj_drop): Dropout(p=0.0, inplace=False)\n",
              "      )\n",
              "      (ls1): Identity()\n",
              "      (drop_path1): Identity()\n",
              "      (norm2): LayerNorm((768,), eps=1e-06, elementwise_affine=True)\n",
              "      (mlp): Mlp(\n",
              "        (fc1): Linear(in_features=768, out_features=3072, bias=True)\n",
              "        (act): GELU(approximate='none')\n",
              "        (drop1): Dropout(p=0.0, inplace=False)\n",
              "        (norm): Identity()\n",
              "        (fc2): Linear(in_features=3072, out_features=768, bias=True)\n",
              "        (drop2): Dropout(p=0.0, inplace=False)\n",
              "      )\n",
              "      (ls2): Identity()\n",
              "      (drop_path2): Identity()\n",
              "    )\n",
              "  )\n",
              "  (norm): LayerNorm((768,), eps=1e-06, elementwise_affine=True)\n",
              "  (fc_norm): Identity()\n",
              "  (head_drop): Dropout(p=0.0, inplace=False)\n",
              "  (head): Linear(in_features=768, out_features=2, bias=True)\n",
              ")"
            ]
          },
          "metadata": {},
          "execution_count": 17
        }
      ],
      "source": [
        "model = timm.create_model('vit_base_patch16_224.augreg_in21k_ft_in1k', pretrained=False, num_classes=2)\n",
        "#model = torch.load('./data/pwc_ViT_timm_pure_5_folds')\n",
        "to_device(model, device)"
      ]
    },
    {
      "cell_type": "code",
      "execution_count": null,
      "metadata": {
        "id": "Sykz5OyfQVzI"
      },
      "outputs": [],
      "source": [
        "# loss function\n",
        "criterion = nn.CrossEntropyLoss()\n",
        "\n",
        "# optimizer\n",
        "import torch.optim as optim\n",
        "optimizer = optim.Adam(model.parameters(), lr=learning_rate)\n",
        "\n",
        "# scheduler\n",
        "from torch.optim.lr_scheduler import StepLR\n",
        "scheduler = StepLR(optimizer, step_size=1, gamma=0.7)\n",
        "\n",
        "# K-fold Cross Validator\n",
        "k_folds = 5\n",
        "kfold = KFold(n_splits=k_folds, shuffle=True)"
      ]
    },
    {
      "cell_type": "code",
      "execution_count": null,
      "metadata": {
        "id": "9ze6FAo8kKen"
      },
      "outputs": [],
      "source": [
        "torch.cuda.empty_cache()"
      ]
    },
    {
      "cell_type": "code",
      "execution_count": null,
      "metadata": {
        "colab": {
          "base_uri": "https://localhost:8080/"
        },
        "id": "15s-P1nxSuxz",
        "outputId": "cf68cf95-b317-400a-ecb2-677c6d630ee1"
      },
      "outputs": [
        {
          "output_type": "stream",
          "name": "stdout",
          "text": [
            "Fold : 6 Start\n",
            "\n"
          ]
        },
        {
          "output_type": "stream",
          "name": "stderr",
          "text": [
            "100%|██████████| 1024/1024 [04:45<00:00,  3.58it/s]\n"
          ]
        },
        {
          "output_type": "stream",
          "name": "stdout",
          "text": [
            "Epoch : 1 - loss : 0.1346 - acc: 0.9540 - val_loss : 0.1215 - val_acc: 0.9607 - lr: 0.0005\n",
            "\n"
          ]
        },
        {
          "output_type": "stream",
          "name": "stderr",
          "text": [
            "100%|██████████| 1024/1024 [04:45<00:00,  3.59it/s]\n"
          ]
        },
        {
          "output_type": "stream",
          "name": "stdout",
          "text": [
            "Epoch : 2 - loss : 0.1139 - acc: 0.9604 - val_loss : 0.0816 - val_acc: 0.9752 - lr: 0.0005\n",
            "\n"
          ]
        },
        {
          "output_type": "stream",
          "name": "stderr",
          "text": [
            "100%|██████████| 1024/1024 [04:45<00:00,  3.59it/s]\n"
          ]
        },
        {
          "output_type": "stream",
          "name": "stdout",
          "text": [
            "Epoch : 3 - loss : 0.1271 - acc: 0.9579 - val_loss : 0.1012 - val_acc: 0.9629 - lr: 0.0005\n",
            "\n",
            "Fold : 6 End\n",
            "\n",
            "Fold : 7 Start\n",
            "\n"
          ]
        },
        {
          "output_type": "stream",
          "name": "stderr",
          "text": [
            "100%|██████████| 1024/1024 [04:45<00:00,  3.59it/s]\n"
          ]
        },
        {
          "output_type": "stream",
          "name": "stdout",
          "text": [
            "Epoch : 1 - loss : 0.1076 - acc: 0.9611 - val_loss : 0.1287 - val_acc: 0.9563 - lr: 0.0005\n",
            "\n"
          ]
        },
        {
          "output_type": "stream",
          "name": "stderr",
          "text": [
            "100%|██████████| 1024/1024 [04:44<00:00,  3.60it/s]\n"
          ]
        },
        {
          "output_type": "stream",
          "name": "stdout",
          "text": [
            "Epoch : 2 - loss : 0.1000 - acc: 0.9667 - val_loss : 0.0893 - val_acc: 0.9677 - lr: 0.0005\n",
            "\n"
          ]
        },
        {
          "output_type": "stream",
          "name": "stderr",
          "text": [
            "100%|██████████| 1024/1024 [04:44<00:00,  3.60it/s]\n"
          ]
        },
        {
          "output_type": "stream",
          "name": "stdout",
          "text": [
            "Epoch : 3 - loss : 0.1074 - acc: 0.9598 - val_loss : 0.1618 - val_acc: 0.9569 - lr: 0.0005\n",
            "\n",
            "Fold : 7 End\n",
            "\n",
            "Fold : 8 Start\n",
            "\n"
          ]
        },
        {
          "output_type": "stream",
          "name": "stderr",
          "text": [
            "100%|██████████| 1024/1024 [04:43<00:00,  3.61it/s]\n"
          ]
        },
        {
          "output_type": "stream",
          "name": "stdout",
          "text": [
            "Epoch : 1 - loss : 0.1026 - acc: 0.9653 - val_loss : 0.0771 - val_acc: 0.9712 - lr: 0.0005\n",
            "\n"
          ]
        },
        {
          "output_type": "stream",
          "name": "stderr",
          "text": [
            "100%|██████████| 1024/1024 [04:43<00:00,  3.61it/s]\n"
          ]
        },
        {
          "output_type": "stream",
          "name": "stdout",
          "text": [
            "Epoch : 2 - loss : 0.1134 - acc: 0.9614 - val_loss : 0.1025 - val_acc: 0.9612 - lr: 0.0005\n",
            "\n"
          ]
        },
        {
          "output_type": "stream",
          "name": "stderr",
          "text": [
            "100%|██████████| 1024/1024 [04:43<00:00,  3.61it/s]\n"
          ]
        },
        {
          "output_type": "stream",
          "name": "stdout",
          "text": [
            "Epoch : 3 - loss : 0.0944 - acc: 0.9642 - val_loss : 0.1067 - val_acc: 0.9596 - lr: 0.0005\n",
            "\n",
            "Fold : 8 End\n",
            "\n",
            "Fold : 9 Start\n",
            "\n"
          ]
        },
        {
          "output_type": "stream",
          "name": "stderr",
          "text": [
            "100%|██████████| 1024/1024 [04:43<00:00,  3.61it/s]\n"
          ]
        },
        {
          "output_type": "stream",
          "name": "stdout",
          "text": [
            "Epoch : 1 - loss : 0.0805 - acc: 0.9716 - val_loss : 0.0671 - val_acc: 0.9774 - lr: 0.0005\n",
            "\n"
          ]
        },
        {
          "output_type": "stream",
          "name": "stderr",
          "text": [
            "100%|██████████| 1024/1024 [04:43<00:00,  3.61it/s]\n"
          ]
        },
        {
          "output_type": "stream",
          "name": "stdout",
          "text": [
            "Epoch : 2 - loss : 0.0825 - acc: 0.9725 - val_loss : 0.0712 - val_acc: 0.9785 - lr: 0.0005\n",
            "\n"
          ]
        },
        {
          "output_type": "stream",
          "name": "stderr",
          "text": [
            "100%|██████████| 1024/1024 [04:43<00:00,  3.61it/s]\n"
          ]
        },
        {
          "output_type": "stream",
          "name": "stdout",
          "text": [
            "Epoch : 3 - loss : 0.1090 - acc: 0.9636 - val_loss : 0.0880 - val_acc: 0.9680 - lr: 0.0005\n",
            "\n",
            "Fold : 9 End\n",
            "\n",
            "Fold : 10 Start\n",
            "\n"
          ]
        },
        {
          "output_type": "stream",
          "name": "stderr",
          "text": [
            "100%|██████████| 1024/1024 [04:43<00:00,  3.61it/s]\n"
          ]
        },
        {
          "output_type": "stream",
          "name": "stdout",
          "text": [
            "Epoch : 1 - loss : 0.0942 - acc: 0.9677 - val_loss : 0.0695 - val_acc: 0.9761 - lr: 0.0005\n",
            "\n"
          ]
        },
        {
          "output_type": "stream",
          "name": "stderr",
          "text": [
            "100%|██████████| 1024/1024 [04:43<00:00,  3.61it/s]\n"
          ]
        },
        {
          "output_type": "stream",
          "name": "stdout",
          "text": [
            "Epoch : 2 - loss : 0.0801 - acc: 0.9736 - val_loss : 0.0608 - val_acc: 0.9797 - lr: 0.0005\n",
            "\n"
          ]
        },
        {
          "output_type": "stream",
          "name": "stderr",
          "text": [
            "100%|██████████| 1024/1024 [04:43<00:00,  3.61it/s]\n"
          ]
        },
        {
          "output_type": "stream",
          "name": "stdout",
          "text": [
            "Epoch : 3 - loss : 0.2126 - acc: 0.9110 - val_loss : 0.1953 - val_acc: 0.9237 - lr: 0.0005\n",
            "\n",
            "Fold : 10 End\n",
            "\n"
          ]
        }
      ],
      "source": [
        "for fold, (train_ids, valid_ids) in enumerate(kfold.split(dataset)):\n",
        "  print(f'Fold : {fold+1+5} Start\\n')\n",
        "  # Sample elements randomly from a given list of ids, no replacement.\n",
        "  train_subsampler = torch.utils.data.SubsetRandomSampler(train_ids)\n",
        "  valid_subsampler = torch.utils.data.SubsetRandomSampler(valid_ids)\n",
        "\n",
        "  train_dl = torch.utils.data.DataLoader(\n",
        "                    dataset, batch_size, num_workers=1,\n",
        "                    pin_memory=False, sampler=train_subsampler)\n",
        "  valid_dl = torch.utils.data.DataLoader(\n",
        "                    dataset, batch_size, num_workers=1,\n",
        "                    pin_memory=False, sampler=valid_subsampler)\n",
        "\n",
        "  train_dl = DeviceDataLoader(train_dl, device)\n",
        "  valid_dl = DeviceDataLoader(train_dl, device)\n",
        "\n",
        "  epochs = 3\n",
        "  train_losses = np.zeros(epochs)\n",
        "  val_losses = np.zeros(epochs)\n",
        "  train_accs = np.zeros(epochs)\n",
        "  val_accs = np.zeros(epochs)\n",
        "\n",
        "  for epoch in range(epochs):\n",
        "    csv_fields = np.zeros(7)\n",
        "    torch.cuda.empty_cache()\n",
        "    epoch_loss = 0\n",
        "    epoch_accuracy = 0\n",
        "\n",
        "    for data, label in tqdm(train_dl):\n",
        "      data = data\n",
        "      label = label\n",
        "\n",
        "      output = model(data)\n",
        "      loss = criterion(output, label)\n",
        "\n",
        "      optimizer.zero_grad()\n",
        "      loss.backward()\n",
        "      optimizer.step()\n",
        "\n",
        "      acc = (output.argmax(dim=1) == label).float().mean()\n",
        "      epoch_accuracy += acc / len(train_dl)\n",
        "      epoch_loss += loss / len(train_dl)\n",
        "\n",
        "    train_accs[epoch] = epoch_accuracy\n",
        "    train_losses[epoch] = epoch_loss\n",
        "\n",
        "    with torch.no_grad():\n",
        "      epoch_val_accuracy = 0\n",
        "      epoch_val_loss = 0\n",
        "      for data, label in valid_dl:\n",
        "        data = data\n",
        "        label = label\n",
        "\n",
        "        val_output = model(data)\n",
        "        val_loss = criterion(val_output, label)\n",
        "\n",
        "        acc = (val_output.argmax(dim=1) == label).float().mean()\n",
        "        epoch_val_accuracy += acc / len(valid_dl)\n",
        "        epoch_val_loss += val_loss / len(valid_dl)\n",
        "\n",
        "    val_accs[epoch] = epoch_val_accuracy\n",
        "    val_losses[epoch] = epoch_val_loss\n",
        "    csv_fields[0] = fold+1+5\n",
        "    csv_fields[1] = epoch\n",
        "    csv_fields[2] = f'{epoch_loss:.4f}'\n",
        "    csv_fields[3] = f'{epoch_accuracy:.4f}'\n",
        "    csv_fields[4] = f'{epoch_val_loss:.4f}'\n",
        "    csv_fields[5] = f'{epoch_val_accuracy:.4f}'\n",
        "    csv_fields[6] = f'{learning_rate:.4f}'\n",
        "    with open('./data/pwc_ViT_timm_pure_k_folds.csv', 'a', newline='') as fd:\n",
        "        writer = csv.writer(fd)\n",
        "        writer.writerow(csv_fields)\n",
        "    print(\n",
        "        f\"Epoch : {epoch+1} - loss : {epoch_loss:.4f} - acc: {epoch_accuracy:.4f} - val_loss : {epoch_val_loss:.4f} - val_acc: {epoch_val_accuracy:.4f} - lr: {learning_rate:.4f}\\n\"\n",
        "    )\n",
        "  print(f'Fold : {fold+1+5} End\\n')"
      ]
    },
    {
      "cell_type": "code",
      "execution_count": null,
      "metadata": {
        "colab": {
          "base_uri": "https://localhost:8080/"
        },
        "id": "kg4C2OWOR4Ku",
        "outputId": "32a1a57b-d8bd-460b-c455-cd7feafa80b7"
      },
      "outputs": [
        {
          "output_type": "stream",
          "name": "stdout",
          "text": [
            "fold,epoch,train_losses,train_acc,val_losses,val_acc,lr\r\n",
            "1.0,0.0,0.3009,0.8938,0.1965,0.934,0.0005\r\n",
            "1.0,1.0,0.2041,0.9263,0.135,0.9475,0.0005\r\n",
            "1.0,2.0,0.2054,0.9258,0.3691,0.8914,0.0005\r\n",
            "2.0,0.0,0.1397,0.9484,0.0977,0.9656,0.0005\r\n",
            "2.0,1.0,0.2417,0.8964,0.6758,0.5101,0.0005\r\n",
            "2.0,2.0,0.6543,0.6031,0.4331,0.8773,0.0005\r\n",
            "3.0,0.0,0.2939,0.8794,0.2663,0.9116,0.0005\r\n",
            "3.0,1.0,0.2644,0.8961,0.1629,0.9459,0.0005\r\n",
            "3.0,2.0,0.1822,0.9346,0.1565,0.9415,0.0005\r\n",
            "4.0,0.0,0.1643,0.9415,0.1376,0.9484,0.0005\r\n",
            "4.0,1.0,0.2847,0.8547,0.3248,0.8929,0.0005\r\n",
            "4.0,2.0,0.2256,0.9116,0.502,0.7101,0.0005\r\n",
            "5.0,0.0,0.2332,0.9081,0.1663,0.9329,0.0005\r\n",
            "5.0,1.0,0.1535,0.9421,0.1212,0.9565,0.0005\r\n",
            "5.0,2.0,0.1531,0.9437,0.1961,0.9318,0.0005\r\n",
            "6.0,0.0,0.1346,0.954,0.1215,0.9607,0.0005\r\n",
            "6.0,1.0,0.1139,0.9604,0.0816,0.9752,0.0005\r\n",
            "6.0,2.0,0.1271,0.9579,0.1012,0.9629,0.0005\r\n",
            "7.0,0.0,0.1076,0.9611,0.1287,0.9563,0.0005\r\n",
            "7.0,1.0,0.1,0.9667,0.0893,0.9677,0.0005\r\n",
            "7.0,2.0,0.1074,0.9598,0.1618,0.9569,0.0005\r\n",
            "8.0,0.0,0.1026,0.9653,0.0771,0.9712,0.0005\r\n",
            "8.0,1.0,0.1134,0.9614,0.1025,0.9612,0.0005\r\n",
            "8.0,2.0,0.0944,0.9642,0.1067,0.9596,0.0005\r\n",
            "9.0,0.0,0.0805,0.9716,0.0671,0.9774,0.0005\r\n",
            "9.0,1.0,0.0825,0.9725,0.0712,0.9785,0.0005\r\n",
            "9.0,2.0,0.109,0.9636,0.088,0.968,0.0005\r\n",
            "10.0,0.0,0.0942,0.9677,0.0695,0.9761,0.0005\r\n",
            "10.0,1.0,0.0801,0.9736,0.0608,0.9797,0.0005\r\n",
            "10.0,2.0,0.2126,0.911,0.1953,0.9237,0.0005\r\n"
          ]
        }
      ],
      "source": [
        "model_save_path = f'./data/pwc_ViT_timm_pure_{fold+1+5}_folds'\n",
        "torch.save(model, model_save_path)\n",
        "!cat ./data/pwc_ViT_timm_pure_k_folds.csv"
      ]
    },
    {
      "cell_type": "markdown",
      "source": [
        "### Training Metric Graphs"
      ],
      "metadata": {
        "id": "xrA-1I87Hlsw"
      }
    },
    {
      "cell_type": "code",
      "execution_count": null,
      "metadata": {
        "colab": {
          "base_uri": "https://localhost:8080/",
          "height": 452
        },
        "id": "0BQ0XkB1y0Lp",
        "outputId": "0596dffc-0f10-4580-a0e1-edc4ed6c8151"
      },
      "outputs": [
        {
          "data": {
            "image/png": "[encoded data removed]",
            "text/plain": [
              "<Figure size 640x480 with 1 Axes>"
            ]
          },
          "metadata": {},
          "output_type": "display_data"
        }
      ],
      "source": [
        "plt.title('Loss vs. No. of epochs')\n",
        "plt.plot(train_losses[:15], label='train')\n",
        "plt.plot(val_losses[:15], label='val')\n",
        "plt.legend()\n",
        "#plt.savefig('graph/vit-lossval.png')\n",
        "plt.show()\n",
        "plt.close()"
      ]
    },
    {
      "cell_type": "code",
      "execution_count": null,
      "metadata": {
        "colab": {
          "base_uri": "https://localhost:8080/",
          "height": 452
        },
        "id": "ZzdxcYlzzDii",
        "outputId": "52483380-2113-4436-fc4d-550a2015ad34"
      },
      "outputs": [
        {
          "data": {
            "image/png": "[encoded data removed]",
            "text/plain": [
              "<Figure size 640x480 with 1 Axes>"
            ]
          },
          "metadata": {},
          "output_type": "display_data"
        }
      ],
      "source": [
        "plt.title('Accuracy vs. No. of epochs')\n",
        "plt.plot(train_accs[:15], label='train')\n",
        "plt.plot(val_accs[:15], label='val')\n",
        "plt.legend()\n",
        "#plt.savefig('graph/vit-lossval.png')\n",
        "plt.show()\n",
        "plt.close()"
      ]
    },
    {
      "cell_type": "markdown",
      "metadata": {
        "id": "M1I9xhJD2pj1"
      },
      "source": [
        "## Testing"
      ]
    },
    {
      "cell_type": "code",
      "execution_count": null,
      "metadata": {
        "id": "HedLoXRW2npk"
      },
      "outputs": [],
      "source": [
        "def predict_image(img, model):\n",
        "    # Convert to a batch of 1\n",
        "    xb = to_device(img.unsqueeze(0), device)\n",
        "    # Get predictions from model\n",
        "    yb = model(xb)\n",
        "    # Pick index with highest probability\n",
        "    _, preds  = torch.max(yb, dim=1)\n",
        "    # Retrieve the class label\n",
        "    # test_ds.classes[label]\n",
        "    return test_ds.classes[preds]"
      ]
    },
    {
      "cell_type": "code",
      "execution_count": null,
      "metadata": {
        "id": "eYjbv5Qj-0df"
      },
      "outputs": [],
      "source": [
        "# Test Data transforms\n",
        "test_tfms = tt.Compose([tt.Resize((224, 224)), tt.ToTensor(), tt.Normalize(*stats)])\n",
        "\n",
        "# load Dataset from folder\n",
        "test_ds = ImageFolder(data_dir+'/test', test_tfms)\n",
        "\n",
        "# PyTorch data loaders\n",
        "test_dl = DataLoader(test_ds, batch_size*2, num_workers=2, pin_memory=False)\n",
        "\n",
        "# Move data loaders to device\n",
        "test_dl = DeviceDataLoader(test_dl, device)"
      ]
    },
    {
      "cell_type": "code",
      "execution_count": null,
      "metadata": {
        "id": "yGrRKykBItVo"
      },
      "outputs": [],
      "source": [
        "def t_evaluate(model, test_dl):\n",
        "    #model.eval()\n",
        "    with torch.no_grad():\n",
        "        epoch_val_accuracy = 0\n",
        "        epoch_val_loss = 0\n",
        "        for data, label in tqdm(test_dl):\n",
        "            data = data #.to(device)\n",
        "            label = label #.to(device)\n",
        "\n",
        "            val_output = model(data)\n",
        "            val_loss = criterion(val_output, label)\n",
        "\n",
        "            acc = (val_output.argmax(dim=1) == label).float().mean()\n",
        "            epoch_val_accuracy += acc / len(test_dl)\n",
        "            epoch_val_loss += val_loss / len(test_dl)\n",
        "\n",
        "    return {'test_loss': epoch_val_loss.item(), 'test_acc': epoch_val_accuracy.item()}"
      ]
    },
    {
      "cell_type": "code",
      "execution_count": null,
      "metadata": {
        "id": "aPlX9D0f49Kf"
      },
      "outputs": [],
      "source": [
        "t_result = t_evaluate(model, test_dl)\n",
        "t_result"
      ]
    },
    {
      "cell_type": "code",
      "execution_count": null,
      "metadata": {
        "id": "9B_t0Gq5E0iI"
      },
      "outputs": [],
      "source": [
        "def test_model(model, test_dl):\n",
        "    CM=0\n",
        "    #model.eval()\n",
        "    with torch.no_grad():\n",
        "        for data, label in tqdm(test_dl):\n",
        "            data = data #.to(device)\n",
        "            labels = label #.to(device)\n",
        "\n",
        "            outputs = model(data) #file_name\n",
        "            preds = torch.argmax(outputs.data, 1)\n",
        "            CM+=confusion_matrix(labels.cpu(), preds.cpu(),labels=[0,1])\n",
        "\n",
        "        tn=CM[0][0]\n",
        "        tp=CM[1][1]\n",
        "        fp=CM[0][1]\n",
        "        fn=CM[1][0]\n",
        "        acc=np.sum(np.diag(CM)/np.sum(CM))\n",
        "        sensitivity=tp/(tp+fn)\n",
        "        precision=tp/(tp+fp)\n",
        "\n",
        "        print('\\nTestset Accuracy(mean): %f %%' % (100 * acc))\n",
        "        print()\n",
        "        print('Confusion Matirx : ')\n",
        "        print(CM)\n",
        "        print('- Sensitivity : ',(tp/(tp+fn))*100)\n",
        "        print('- Specificity : ',(tn/(tn+fp))*100)\n",
        "        print('- Precision: ',(tp/(tp+fp))*100)\n",
        "        print('- NPV: ',(tn/(tn+fn))*100)\n",
        "        print('- F1 : ',((2*sensitivity*precision)/(sensitivity+precision))*100)\n",
        "        print()\n",
        "\n",
        "    return acc, CM\n",
        "\n",
        "acc, CM = test_model(model, test_dl)\n",
        "print(acc)\n",
        "print(CM)"
      ]
    },
    {
      "cell_type": "code",
      "execution_count": null,
      "metadata": {
        "id": "iZ93LHUIze4U"
      },
      "outputs": [],
      "source": [
        "#del test_dl"
      ]
    },
    {
      "cell_type": "code",
      "execution_count": null,
      "metadata": {
        "id": "jTexbR1s2uGr"
      },
      "outputs": [],
      "source": [
        "img, label = test_ds[0]\n",
        "plt.imshow(img.permute(1, 2, 0).clamp(0, 1))\n",
        "print('Label:', test_ds.classes[label], ', Predicted:', predict_image(img, model))"
      ]
    },
    {
      "cell_type": "code",
      "execution_count": null,
      "metadata": {
        "id": "MXmvFae72vqt"
      },
      "outputs": [],
      "source": [
        "img, label = test_ds[1100]\n",
        "plt.imshow(img.permute(1, 2, 0).clamp(0, 1))\n",
        "print('Label:', test_ds.classes[label], ', Predicted:', predict_image(img, model))"
      ]
    },
    {
      "cell_type": "code",
      "execution_count": null,
      "metadata": {
        "id": "hbjmMLlTiWHu"
      },
      "outputs": [],
      "source": [
        "from random import randrange\n",
        "img, label = test_ds[randrange(0,1144)]\n",
        "print(img.shape)\n",
        "plt.imshow(img.permute(1, 2, 0).clamp(0, 1))\n",
        "print('Label:', test_ds.classes[label], ', Predicted:', predict_image(img, model))"
      ]
    }
  ],
  "metadata": {
    "accelerator": "GPU",
    "colab": {
      "collapsed_sections": [
        "M1I9xhJD2pj1"
      ],
      "provenance": []
    },
    "gpuClass": "standard",
    "kernelspec": {
      "display_name": "Python 3",
      "name": "python3"
    },
    "language_info": {
      "name": "python"
    }
  },
  "nbformat": 4,
  "nbformat_minor": 0
}