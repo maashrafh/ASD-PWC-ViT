{
 "cells": [
  {
   "cell_type": "code",
   "execution_count": 1,
   "id": "e8d9226f",
   "metadata": {},
   "outputs": [],
   "source": [
    "import cv2\n",
    "import copy\n",
    "from ViT_CX.ViT_CX import ViT_CX\n",
    "import numpy as np\n",
    "import torch\n",
    "import torch.nn as nn\n",
    "from tqdm import tqdm\n",
    "from torchvision import transforms\n",
    "import torchvision.transforms as tt\n",
    "from torchvision.utils import make_grid\n",
    "from torchvision.datasets import ImageFolder\n",
    "from torch.utils.data import DataLoader\n",
    "from matplotlib import pyplot as plt\n",
    "import gradio as gr"
   ]
  },
  {
   "cell_type": "code",
   "execution_count": 2,
   "id": "944c092f",
   "metadata": {},
   "outputs": [
    {
     "name": "stdout",
     "output_type": "stream",
     "text": [
      "Using device: cuda\n"
     ]
    }
   ],
   "source": [
    "# Device selection\n",
    "device = torch.device(\"cuda\" if torch.cuda.is_available() else \"cpu\")\n",
    "print(\"Using device:\", device)\n",
    "\n",
    "def to_device(data, device):\n",
    "    \"\"\"Move tensor(s) to chosen device\"\"\"\n",
    "    if isinstance(data, (list,tuple)):\n",
    "        return [to_device(x, device) for x in data]\n",
    "    return data.to(device, non_blocking=True)\n",
    "\n",
    "class DeviceDataLoader():\n",
    "    \"\"\"Wrap a dataloader to move data to a device\"\"\"\n",
    "    def __init__(self, dl, device):\n",
    "        self.dl = dl\n",
    "        self.device = device\n",
    "\n",
    "    def __iter__(self):\n",
    "        \"\"\"Yield a batch of data after moving it to device\"\"\"\n",
    "        for b in self.dl:\n",
    "            yield to_device(b, self.device)\n",
    "\n",
    "    def __len__(self):\n",
    "        \"\"\"Number of batches\"\"\"\n",
    "        return len(self.dl)"
   ]
  },
  {
   "cell_type": "code",
   "execution_count": 3,
   "id": "8bed8e3d",
   "metadata": {},
   "outputs": [],
   "source": [
    "# Load black box model for explanations\n",
    "model = torch.load('./data/pwc_ViT_timm_pure_10_folds')\n",
    "labels = ['ASD', 'NC']"
   ]
  },
  {
   "cell_type": "code",
   "execution_count": 92,
   "id": "98d7039e",
   "metadata": {},
   "outputs": [],
   "source": [
    "def predict_image(img):\n",
    "    stats = (0.5, 0.5)\n",
    "    img_tfms = tt.Compose([tt.ToTensor(), tt.Resize((224, 224), antialias='True'), tt.Normalize(*stats)])\n",
    "    img_t = img_tfms(img)\n",
    "    xb = to_device(img_t.unsqueeze(0), device) \n",
    "    yb = model(xb)\n",
    "    preds = torch.argmax(yb.data, dim=1)\n",
    "    target_layer=model.blocks[-1].norm1\n",
    "    cx_result = ViT_CX(model,xb,target_layer,target_category=None,distance_threshold=0.1,gpu_batch=50)\n",
    "    img_path = './data/gradio/cx_result.png'\n",
    "    plt.imsave(img_path, cx_result, cmap='jet')\n",
    "\n",
    "    return labels[preds], img_path"
   ]
  },
  {
   "cell_type": "code",
   "execution_count": 93,
   "id": "9a596b04",
   "metadata": {},
   "outputs": [],
   "source": [
    "import warnings\n",
    "warnings.filterwarnings(\"ignore\", category=UserWarning)\n",
    "warnings.filterwarnings(\"ignore\", category=FutureWarning)"
   ]
  },
  {
   "cell_type": "code",
   "execution_count": 104,
   "id": "e51e9911",
   "metadata": {
    "scrolled": false
   },
   "outputs": [],
   "source": [
    "demo = gr.Interface(fn=predict_image,\n",
    "                    inputs=gr.Image(type='pil', shape=(224,224), label=\"PWC Image Input\"),\n",
    "                    outputs=[\n",
    "                        gr.Textbox(label=\"Predicted:\"),\n",
    "                        gr.Image(type='filepath',label=\"Saliency Map\")],\n",
    "                    title=\"ViT-Base16 PWC ASD Classifier\"\n",
    "                   )"
   ]
  },
  {
   "cell_type": "code",
   "execution_count": 105,
   "id": "f24178cf",
   "metadata": {
    "scrolled": false
   },
   "outputs": [
    {
     "name": "stdout",
     "output_type": "stream",
     "text": [
      "Running on local URL:  http://127.0.0.1:7886\n",
      "\n",
      "To create a public link, set `share=True` in `launch()`.\n"
     ]
    },
    {
     "data": {
      "text/plain": []
     },
     "execution_count": 105,
     "metadata": {},
     "output_type": "execute_result"
    }
   ],
   "source": [
    "demo.launch(inline=False)"
   ]
  },
  {
   "cell_type": "code",
   "execution_count": null,
   "id": "502fc726",
   "metadata": {},
   "outputs": [],
   "source": []
  }
 ],
 "metadata": {
  "kernelspec": {
   "display_name": "Python [conda env:new-vit-cx] *",
   "language": "python",
   "name": "conda-env-new-vit-cx-py"
  },
  "language_info": {
   "codemirror_mode": {
    "name": "ipython",
    "version": 3
   },
   "file_extension": ".py",
   "mimetype": "text/x-python",
   "name": "python",
   "nbconvert_exporter": "python",
   "pygments_lexer": "ipython3",
   "version": "3.11.3"
  }
 },
 "nbformat": 4,
 "nbformat_minor": 5
}
