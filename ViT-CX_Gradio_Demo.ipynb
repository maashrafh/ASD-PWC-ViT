{
 "cells": [
  {
   "cell_type": "code",
   "execution_count": 1,
   "id": "e8d9226f",
   "metadata": {},
   "outputs": [],
   "source": [
    "import cv2\n",
    "import copy\n",
    "from ViT_CX.ViT_CX import ViT_CX\n",
    "import numpy as np\n",
    "import torch\n",
    "import torch.nn as nn\n",
    "from tqdm import tqdm\n",
    "from torchvision import transforms\n",
    "import torchvision.transforms as tt\n",
    "from torchvision.utils import make_grid\n",
    "from torchvision.datasets import ImageFolder\n",
    "from torch.utils.data import DataLoader\n",
    "from matplotlib import pyplot as plt\n",
    "import gradio as gr"
   ]
  },
  {
   "cell_type": "code",
   "execution_count": 2,
   "id": "944c092f",
   "metadata": {},
   "outputs": [
    {
     "name": "stdout",
     "output_type": "stream",
     "text": [
      "Using device: cuda\n"
     ]
    }
   ],
   "source": [
    "# Device selection\n",
    "device = torch.device(\"cuda\" if torch.cuda.is_available() else \"cpu\")\n",
    "print(\"Using device:\", device)\n",
    "\n",
    "def to_device(data, device):\n",
    "    \"\"\"Move tensor(s) to chosen device\"\"\"\n",
    "    if isinstance(data, (list,tuple)):\n",
    "        return [to_device(x, device) for x in data]\n",
    "    return data.to(device, non_blocking=True)\n",
    "\n",
    "class DeviceDataLoader():\n",
    "    \"\"\"Wrap a dataloader to move data to a device\"\"\"\n",
    "    def __init__(self, dl, device):\n",
    "        self.dl = dl\n",
    "        self.device = device\n",
    "\n",
    "    def __iter__(self):\n",
    "        \"\"\"Yield a batch of data after moving it to device\"\"\"\n",
    "        for b in self.dl:\n",
    "            yield to_device(b, self.device)\n",
    "\n",
    "    def __len__(self):\n",
    "        \"\"\"Number of batches\"\"\"\n",
    "        return len(self.dl)"
   ]
  },
  {
   "cell_type": "code",
   "execution_count": 3,
   "id": "8bed8e3d",
   "metadata": {},
   "outputs": [],
   "source": [
    "# Load black box model for explanations\n",
    "model = torch.load('./data/pwc_ViT_timm_pure_5_folds')\n",
    "labels = ['ASD', 'NC']"
   ]
  },
  {
   "cell_type": "code",
   "execution_count": 4,
   "id": "98d7039e",
   "metadata": {},
   "outputs": [],
   "source": [
    "def predict_image(img):\n",
    "    img_t = tt.ToTensor()(img).unsqueeze(0)\n",
    "    # Convert to a batch of 1\n",
    "    xb = to_device(img_t, device) \n",
    "    # Get predictions from model\n",
    "    yb = model(xb)\n",
    "    # Pick index with highest probability\n",
    "    _, preds  = torch.max(yb, dim=1)\n",
    "    # Define ViT-CX target layer\n",
    "    target_layer=model.blocks[-1].norm1\n",
    "    # Get ViT-CX map\n",
    "    cx_result = ViT_CX(model,img_t,target_layer,target_category=None,distance_threshold=0.1,gpu_batch=50)\n",
    "    # Retrieve the class label and ViT-CX map\n",
    "    return labels[preds], cx_result"
   ]
  },
  {
   "cell_type": "code",
   "execution_count": 5,
   "id": "e51e9911",
   "metadata": {
    "scrolled": false
   },
   "outputs": [],
   "source": [
    "demo = gr.Interface(fn=predict_image, inputs=gr.Image(shape=(224,224)), outputs=[\"text\",gr.Image(type=\"pil\", image_mode=\"L\")])"
   ]
  },
  {
   "cell_type": "code",
   "execution_count": 6,
   "id": "848a624d",
   "metadata": {
    "scrolled": false
   },
   "outputs": [],
   "source": [
    "# figure out how to debug this thing, test with filepath first and make sure prediction is correct"
   ]
  },
  {
   "cell_type": "code",
   "execution_count": 8,
   "id": "9a596b04",
   "metadata": {},
   "outputs": [],
   "source": [
    "import warnings\n",
    "warnings.filterwarnings(\"ignore\", category=UserWarning)\n",
    "warnings.filterwarnings(\"ignore\", category=FutureWarning)"
   ]
  },
  {
   "cell_type": "code",
   "execution_count": 9,
   "id": "f24178cf",
   "metadata": {
    "scrolled": false
   },
   "outputs": [
    {
     "name": "stdout",
     "output_type": "stream",
     "text": [
      "Rerunning server... use `close()` to stop if you need to change `launch()` parameters.\n",
      "----\n",
      "Running on local URL:  http://127.0.0.1:7860\n",
      "\n",
      "To create a public link, set `share=True` in `launch()`.\n"
     ]
    },
    {
     "data": {
      "text/html": [
       "<div><iframe src=\"http://127.0.0.1:7860/\" width=\"100%\" height=\"500\" allow=\"autoplay; camera; microphone; clipboard-read; clipboard-write;\" frameborder=\"0\" allowfullscreen></iframe></div>"
      ],
      "text/plain": [
       "<IPython.core.display.HTML object>"
      ]
     },
     "metadata": {},
     "output_type": "display_data"
    },
    {
     "data": {
      "text/plain": []
     },
     "execution_count": 9,
     "metadata": {},
     "output_type": "execute_result"
    }
   ],
   "source": [
    "demo.launch()"
   ]
  }
 ],
 "metadata": {
  "kernelspec": {
   "display_name": "Python [conda env:new-vit-cx] *",
   "language": "python",
   "name": "conda-env-new-vit-cx-py"
  },
  "language_info": {
   "codemirror_mode": {
    "name": "ipython",
    "version": 3
   },
   "file_extension": ".py",
   "mimetype": "text/x-python",
   "name": "python",
   "nbconvert_exporter": "python",
   "pygments_lexer": "ipython3",
   "version": "3.11.3"
  }
 },
 "nbformat": 4,
 "nbformat_minor": 5
}
