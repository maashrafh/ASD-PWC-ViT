{
 "cells": [
  {
   "cell_type": "code",
   "execution_count": 1,
   "id": "a99403b9",
   "metadata": {
    "scrolled": true
   },
   "outputs": [
    {
     "name": "stdout",
     "output_type": "stream",
     "text": [
      "Tue Jul 11 19:02:19 2023       \n",
      "+---------------------------------------------------------------------------------------+\n",
      "| NVIDIA-SMI 535.54.06              Driver Version: 536.40       CUDA Version: 12.2     |\n",
      "|-----------------------------------------+----------------------+----------------------+\n",
      "| GPU  Name                 Persistence-M | Bus-Id        Disp.A | Volatile Uncorr. ECC |\n",
      "| Fan  Temp   Perf          Pwr:Usage/Cap |         Memory-Usage | GPU-Util  Compute M. |\n",
      "|                                         |                      |               MIG M. |\n",
      "|=========================================+======================+======================|\n",
      "|   0  NVIDIA GeForce RTX 3060        On  | 00000000:01:00.0  On |                  N/A |\n",
      "| 45%   41C    P8              11W / 170W |   1081MiB / 12288MiB |      2%      Default |\n",
      "|                                         |                      |                  N/A |\n",
      "+-----------------------------------------+----------------------+----------------------+\n",
      "                                                                                         \n",
      "+---------------------------------------------------------------------------------------+\n",
      "| Processes:                                                                            |\n",
      "|  GPU   GI   CI        PID   Type   Process name                            GPU Memory |\n",
      "|        ID   ID                                                             Usage      |\n",
      "|=======================================================================================|\n",
      "|  No running processes found                                                           |\n",
      "+---------------------------------------------------------------------------------------+\n",
      "3.11.3\n"
     ]
    }
   ],
   "source": [
    "!nvidia-smi\n",
    "from platform import python_version\n",
    "print(python_version())"
   ]
  },
  {
   "cell_type": "code",
   "execution_count": 2,
   "id": "ffd0d4ae",
   "metadata": {
    "scrolled": true
   },
   "outputs": [],
   "source": [
    "import cv2\n",
    "import copy\n",
    "from ViT_CX.ViT_CX import ViT_CX\n",
    "import numpy as np\n",
    "import torch\n",
    "import torch.nn as nn\n",
    "from tqdm import tqdm\n",
    "from torchvision import transforms\n",
    "import torchvision.transforms as tt\n",
    "from torchvision.utils import make_grid\n",
    "from torchvision.datasets import ImageFolder\n",
    "from torch.utils.data import DataLoader\n",
    "#from pytorch_pretrained_vit import ViT\n",
    "from matplotlib import pyplot as plt\n",
    "from sklearn.metrics import confusion_matrix\n",
    "from sklearn.model_selection import KFold"
   ]
  },
  {
   "cell_type": "code",
   "execution_count": 3,
   "id": "f6dc49b7",
   "metadata": {
    "scrolled": true
   },
   "outputs": [
    {
     "name": "stdout",
     "output_type": "stream",
     "text": [
      "2.0.1\n"
     ]
    }
   ],
   "source": [
    "print(torch.__version__)"
   ]
  },
  {
   "cell_type": "code",
   "execution_count": 4,
   "id": "29190e01",
   "metadata": {},
   "outputs": [],
   "source": [
    "# Model Hyperparameters\n",
    "batch_size = 8 # 8 is maximum"
   ]
  },
  {
   "cell_type": "code",
   "execution_count": 5,
   "id": "77543e79",
   "metadata": {},
   "outputs": [
    {
     "name": "stdout",
     "output_type": "stream",
     "text": [
      "Using device: cuda\n"
     ]
    }
   ],
   "source": [
    "# Device selection\n",
    "device = torch.device(\"cuda\" if torch.cuda.is_available() else \"cpu\")\n",
    "print(\"Using device:\", device)\n",
    "\n",
    "def to_device(data, device):\n",
    "    \"\"\"Move tensor(s) to chosen device\"\"\"\n",
    "    if isinstance(data, (list,tuple)):\n",
    "        return [to_device(x, device) for x in data]\n",
    "    return data.to(device, non_blocking=True)\n",
    "\n",
    "class DeviceDataLoader():\n",
    "    \"\"\"Wrap a dataloader to move data to a device\"\"\"\n",
    "    def __init__(self, dl, device):\n",
    "        self.dl = dl\n",
    "        self.device = device\n",
    "\n",
    "    def __iter__(self):\n",
    "        \"\"\"Yield a batch of data after moving it to device\"\"\"\n",
    "        for b in self.dl:\n",
    "            yield to_device(b, self.device)\n",
    "\n",
    "    def __len__(self):\n",
    "        \"\"\"Number of batches\"\"\"\n",
    "        return len(self.dl)"
   ]
  },
  {
   "cell_type": "code",
   "execution_count": 6,
   "id": "9e8c44fe",
   "metadata": {
    "scrolled": false
   },
   "outputs": [],
   "source": [
    "# Data transforms (normalization & data augmentation)\n",
    "stats = (0.5, 0.5)\n",
    "\n",
    "# Test Data transforms\n",
    "test_tfms = tt.Compose([tt.Resize((224, 224), antialias='True'), tt.ToTensor(), tt.Normalize(*stats), ])\n",
    "\n",
    "# load Dataset from folder\n",
    "data_dir = './data/pwcdata'\n",
    "test_ds = ImageFolder(data_dir+'/test', test_tfms)\n",
    "\n",
    "# PyTorch data loaders\n",
    "test_dl = DataLoader(test_ds, batch_size*2, num_workers=2, pin_memory=False)\n",
    "\n",
    "# Move data loaders to device\n",
    "test_dl = DeviceDataLoader(test_dl, device)"
   ]
  },
  {
   "cell_type": "code",
   "execution_count": 7,
   "id": "5eb0c21a",
   "metadata": {},
   "outputs": [],
   "source": [
    "# loss function\n",
    "criterion = nn.CrossEntropyLoss()\n",
    "\n",
    "def t_evaluate(model, test_dl):\n",
    "    #model.eval()\n",
    "    with torch.no_grad():\n",
    "        epoch_val_accuracy = 0\n",
    "        epoch_val_loss = 0\n",
    "        for data, label in tqdm(test_dl):\n",
    "            data = data #.to(device)\n",
    "            label = label #.to(device)\n",
    "\n",
    "            val_output = model(data)\n",
    "            val_loss = criterion(val_output, label)\n",
    "\n",
    "            acc = (val_output.argmax(dim=1) == label).float().mean()\n",
    "            epoch_val_accuracy += acc / len(test_dl)\n",
    "            epoch_val_loss += val_loss / len(test_dl)\n",
    "\n",
    "    return {'test_loss': epoch_val_loss.item(), 'test_acc': epoch_val_accuracy.item()}"
   ]
  },
  {
   "cell_type": "code",
   "execution_count": 8,
   "id": "7c5ee5ae",
   "metadata": {},
   "outputs": [],
   "source": [
    "def test_model(model, test_dl):\n",
    "    CM=0\n",
    "    #model.eval()\n",
    "    with torch.no_grad():\n",
    "        for data, label in tqdm(test_dl):\n",
    "            data = data #.to(device)\n",
    "            labels = label #.to(device)\n",
    "\n",
    "            outputs = model(data) #file_name\n",
    "            preds = torch.argmax(outputs.data, 1)\n",
    "            CM+=confusion_matrix(labels.cpu(), preds.cpu(),labels=[0,1])\n",
    "\n",
    "        tn=CM[0][0]\n",
    "        tp=CM[1][1]\n",
    "        fp=CM[0][1]\n",
    "        fn=CM[1][0]\n",
    "        acc=np.sum(np.diag(CM)/np.sum(CM))\n",
    "        sensitivity=tp/(tp+fn)\n",
    "        precision=tp/(tp+fp)\n",
    "\n",
    "        print('\\nTestset Accuracy(mean): %f %%' % (100 * acc))\n",
    "        print()\n",
    "        print('Confusion Matirx : ')\n",
    "        print(CM)\n",
    "        print('- Sensitivity : ',(tp/(tp+fn))*100)\n",
    "        print('- Specificity : ',(tn/(tn+fp))*100)\n",
    "        print('- Precision: ',(tp/(tp+fp))*100)\n",
    "        print('- NPV: ',(tn/(tn+fn))*100)\n",
    "        print('- F1 : ',((2*sensitivity*precision)/(sensitivity+precision))*100)\n",
    "        print()\n",
    "\n",
    "    return acc, CM"
   ]
  },
  {
   "cell_type": "code",
   "execution_count": 9,
   "id": "27492e6f",
   "metadata": {},
   "outputs": [],
   "source": [
    "def predict_image(img, model):\n",
    "    # Convert to a batch of 1\n",
    "    xb = to_device(img.unsqueeze(0), device)\n",
    "    # Get predictions from model\n",
    "    yb = model(xb)\n",
    "    # Pick index with highest probability\n",
    "    _, preds  = torch.max(yb, dim=1)\n",
    "    # Retrieve the class label\n",
    "    # test_ds.classes[label]\n",
    "    return test_ds.classes[preds]"
   ]
  },
  {
   "cell_type": "code",
   "execution_count": 10,
   "id": "25feb539",
   "metadata": {},
   "outputs": [],
   "source": [
    "# Load black box model for explanations\n",
    "model = torch.load('./data/pwc_ViT_timm_PT_10_folds')"
   ]
  },
  {
   "cell_type": "code",
   "execution_count": 11,
   "id": "63aa433a",
   "metadata": {},
   "outputs": [],
   "source": [
    "import warnings\n",
    "warnings.filterwarnings(\"ignore\", category=UserWarning)\n",
    "warnings.filterwarnings(\"ignore\", category=FutureWarning)"
   ]
  },
  {
   "cell_type": "code",
   "execution_count": 13,
   "id": "0a56ee7d",
   "metadata": {
    "scrolled": true
   },
   "outputs": [
    {
     "name": "stderr",
     "output_type": "stream",
     "text": [
      "100%|███████████████████████████████████████████████████████████████████| 1144/1144 [10:29<00:00,  1.82it/s]\n"
     ]
    }
   ],
   "source": [
    "tn_save_path = f'./data/vitcx_img/PT/tn/'\n",
    "tp_save_path = f'./data/vitcx_img/PT/tp/'\n",
    "fp_save_path = f'./data/vitcx_img/PT/fp/'\n",
    "fn_save_path = f'./data/vitcx_img/PT/fn/'\n",
    "CM = [[0,0],[0,0]]\n",
    "tn = 0\n",
    "tp = 0\n",
    "fp = 0\n",
    "fn = 0\n",
    "#model.eval()\n",
    "#with torch.no_grad():\n",
    "for i in tqdm(range(0, 1144)):\n",
    "    #print(f'img : {i}')\n",
    "    img, label = test_ds[i]\n",
    "#         img = to_device(data.unsqueeze(0), device) #.to(device)\n",
    "#         labels = label #.to(device)\n",
    "    img = to_device(img.unsqueeze(0), device)\n",
    "#         yb = model(xb)\n",
    "#         _, preds  = torch.max(yb, dim=1)\n",
    "\n",
    "    outputs = model(img) #file_name\n",
    "    preds = torch.argmax(outputs.data, 1)\n",
    "    target_layer=model.blocks[-1].norm1\n",
    "    result=ViT_CX(model,img,target_layer,target_category=None,distance_threshold=0.1,gpu_batch=50)\n",
    "\n",
    "    if ((label == 0) and (preds == 0)):\n",
    "        # true negative\n",
    "        tn +=1\n",
    "        img_path = tn_save_path + f'{i+1:05d}' + '.png'\n",
    "        plt.imsave(img_path, result, cmap='jet')\n",
    "    elif ((label == 1) and (preds == 1)):\n",
    "        # true positive\n",
    "        tp += 1\n",
    "        img_path = tp_save_path + f'{i+1:05d}' + '.png'\n",
    "        plt.imsave(img_path, result, cmap='jet')\n",
    "    elif ((label == 0) and (preds == 1)):\n",
    "        # false positive\n",
    "        fp += 1\n",
    "        img_path = fp_save_path + f'{i+1:05d}' + '.png'\n",
    "        plt.imsave(img_path, result, cmap='jet')\n",
    "    elif ((label == 1) and (preds == 0)):\n",
    "        # false negative\n",
    "        fn += 1\n",
    "        img_path = fn_save_path + f'{i+1:05d}' + '.png'\n",
    "        plt.imsave(img_path, result, cmap='jet')\n"
   ]
  },
  {
   "cell_type": "code",
   "execution_count": 14,
   "id": "df281e40",
   "metadata": {},
   "outputs": [
    {
     "name": "stdout",
     "output_type": "stream",
     "text": [
      "[[559, 2], [5, 578]]\n"
     ]
    }
   ],
   "source": [
    "CM[0][0] = tn\n",
    "CM[1][1] = tp\n",
    "CM[0][1] = fp\n",
    "CM[1][0] = fn\n",
    "print(CM)"
   ]
  },
  {
   "cell_type": "code",
   "execution_count": 15,
   "id": "1c3aa759",
   "metadata": {
    "scrolled": true
   },
   "outputs": [
    {
     "name": "stdout",
     "output_type": "stream",
     "text": [
      "\n",
      "Testset Accuracy(mean): 99.388112 %\n",
      "\n",
      "Confusion Matirx : \n",
      "[[559, 2], [5, 578]]\n",
      "- Sensitivity :  99.14236706689536\n",
      "- Specificity :  99.64349376114082\n",
      "- Precision:  99.6551724137931\n",
      "- NPV:  99.11347517730496\n",
      "- F1 :  99.39810834049871\n",
      "\n"
     ]
    }
   ],
   "source": [
    "acc=np.sum(np.diag(CM)/np.sum(CM))\n",
    "sensitivity=tp/(tp+fn)\n",
    "precision=tp/(tp+fp)\n",
    "\n",
    "print('\\nTestset Accuracy(mean): %f %%' % (100 * acc))\n",
    "print()\n",
    "print('Confusion Matirx : ')\n",
    "print(CM)\n",
    "print('- Sensitivity : ',(tp/(tp+fn))*100)\n",
    "print('- Specificity : ',(tn/(tn+fp))*100)\n",
    "print('- Precision: ',(tp/(tp+fp))*100)\n",
    "print('- NPV: ',(tn/(tn+fn))*100)\n",
    "print('- F1 : ',((2*sensitivity*precision)/(sensitivity+precision))*100)\n",
    "print()"
   ]
  },
  {
   "cell_type": "code",
   "execution_count": null,
   "id": "ed6362f5",
   "metadata": {
    "scrolled": false
   },
   "outputs": [],
   "source": [
    "# t_result = t_evaluate(model, test_dl)\n",
    "# t_result"
   ]
  },
  {
   "cell_type": "code",
   "execution_count": null,
   "id": "6078d4ce",
   "metadata": {
    "scrolled": true
   },
   "outputs": [],
   "source": [
    "#test_model(model, test_dl)"
   ]
  },
  {
   "cell_type": "code",
   "execution_count": null,
   "id": "c66dc755",
   "metadata": {
    "scrolled": true
   },
   "outputs": [],
   "source": [
    "# img, label = test_ds[0]\n",
    "# plt.imshow(img.permute(1, 2, 0).clamp(0, 1))\n",
    "# plt.axis('off')\n",
    "# print('Label:', test_ds.classes[label], ', Predicted:', predict_image(img, model))"
   ]
  },
  {
   "cell_type": "code",
   "execution_count": null,
   "id": "3e0f44cc",
   "metadata": {
    "scrolled": true
   },
   "outputs": [],
   "source": [
    "# # Perform ViT-CX\n",
    "# target_layer=model.blocks[-1].norm1\n",
    "# result=ViT_CX(model,img.unsqueeze(0),target_layer,target_category=None,distance_threshold=0.1,gpu_batch=50)"
   ]
  },
  {
   "cell_type": "code",
   "execution_count": null,
   "id": "f4feea5b",
   "metadata": {
    "scrolled": true
   },
   "outputs": [],
   "source": [
    "# %matplotlib inline\n",
    "# fig, ax = plt.subplots(1,2)\n",
    "# ax[0].axis('off')\n",
    "# ax[1].axis('off')\n",
    "# ax[0].imshow(img.permute(1, 2, 0).clamp(0, 1))\n",
    "# ax[1].imshow(result, cmap='jet', alpha=1)\n",
    "# plt.show()"
   ]
  },
  {
   "cell_type": "code",
   "execution_count": null,
   "id": "e51c7835",
   "metadata": {},
   "outputs": [],
   "source": [
    "# img, label = test_ds[1100]\n",
    "# plt.axis('off')\n",
    "# plt.imshow(img.permute(1, 2, 0).clamp(0, 1))\n",
    "# print('Label:', test_ds.classes[label], ', Predicted:', predict_image(img, model))"
   ]
  },
  {
   "cell_type": "code",
   "execution_count": null,
   "id": "ff58b629",
   "metadata": {
    "scrolled": false
   },
   "outputs": [],
   "source": [
    "# # Perform ViT-CX\n",
    "# target_layer=model.blocks[-1].norm1\n",
    "# result=ViT_CX(model,img.unsqueeze(0),target_layer,target_category=None,distance_threshold=0.1,gpu_batch=50)"
   ]
  },
  {
   "cell_type": "code",
   "execution_count": null,
   "id": "4c08a93a",
   "metadata": {
    "scrolled": true
   },
   "outputs": [],
   "source": [
    "# %matplotlib inline\n",
    "# fig, ax = plt.subplots(1,2)\n",
    "# ax[0].axis('off')\n",
    "# ax[1].axis('off')\n",
    "# ax[0].imshow(img.permute(1, 2, 0).clamp(0, 1))\n",
    "# ax[1].imshow(result, cmap='jet', alpha=1)\n",
    "# plt.show()"
   ]
  }
 ],
 "metadata": {
  "kernelspec": {
   "display_name": "Python [conda env:new-vit-cx] *",
   "language": "python",
   "name": "conda-env-new-vit-cx-py"
  },
  "language_info": {
   "codemirror_mode": {
    "name": "ipython",
    "version": 3
   },
   "file_extension": ".py",
   "mimetype": "text/x-python",
   "name": "python",
   "nbconvert_exporter": "python",
   "pygments_lexer": "ipython3",
   "version": "3.11.3"
  }
 },
 "nbformat": 4,
 "nbformat_minor": 5
}
